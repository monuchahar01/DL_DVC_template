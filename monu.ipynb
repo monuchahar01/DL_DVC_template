{
 "cells": [
  {
   "cell_type": "code",
   "execution_count": 3,
   "metadata": {},
   "outputs": [],
   "source": [
    "import tensorflow"
   ]
  },
  {
   "cell_type": "code",
   "execution_count": 2,
   "metadata": {},
   "outputs": [
    {
     "name": "stdout",
     "output_type": "stream",
     "text": [
      "Requirement already satisfied: ipykernel in e:\\documents\\d_s\\full_stack\\11_sept\\deepcnnclassifier\\env\\lib\\site-packages (6.15.2)\n",
      "Requirement already satisfied: jupyter-client>=6.1.12 in e:\\documents\\d_s\\full_stack\\11_sept\\deepcnnclassifier\\env\\lib\\site-packages (from ipykernel) (7.3.5)\n",
      "Requirement already satisfied: matplotlib-inline>=0.1 in e:\\documents\\d_s\\full_stack\\11_sept\\deepcnnclassifier\\env\\lib\\site-packages (from ipykernel) (0.1.6)\n",
      "Requirement already satisfied: debugpy>=1.0 in e:\\documents\\d_s\\full_stack\\11_sept\\deepcnnclassifier\\env\\lib\\site-packages (from ipykernel) (1.6.3)\n",
      "Requirement already satisfied: nest-asyncio in e:\\documents\\d_s\\full_stack\\11_sept\\deepcnnclassifier\\env\\lib\\site-packages (from ipykernel) (1.5.5)\n",
      "Requirement already satisfied: packaging in e:\\documents\\d_s\\full_stack\\11_sept\\deepcnnclassifier\\env\\lib\\site-packages (from ipykernel) (21.3)\n",
      "Requirement already satisfied: traitlets>=5.1.0 in e:\\documents\\d_s\\full_stack\\11_sept\\deepcnnclassifier\\env\\lib\\site-packages (from ipykernel) (5.3.0)\n",
      "Requirement already satisfied: pyzmq>=17 in e:\\documents\\d_s\\full_stack\\11_sept\\deepcnnclassifier\\env\\lib\\site-packages (from ipykernel) (23.2.1)\n",
      "Requirement already satisfied: ipython>=7.23.1 in e:\\documents\\d_s\\full_stack\\11_sept\\deepcnnclassifier\\env\\lib\\site-packages (from ipykernel) (8.5.0)\n",
      "Requirement already satisfied: psutil in e:\\documents\\d_s\\full_stack\\11_sept\\deepcnnclassifier\\env\\lib\\site-packages (from ipykernel) (5.9.2)\n",
      "Requirement already satisfied: tornado>=6.1 in e:\\documents\\d_s\\full_stack\\11_sept\\deepcnnclassifier\\env\\lib\\site-packages (from ipykernel) (6.2)\n",
      "Requirement already satisfied: colorama in e:\\documents\\d_s\\full_stack\\11_sept\\deepcnnclassifier\\env\\lib\\site-packages (from ipython>=7.23.1->ipykernel) (0.4.5)\n",
      "Requirement already satisfied: backcall in e:\\documents\\d_s\\full_stack\\11_sept\\deepcnnclassifier\\env\\lib\\site-packages (from ipython>=7.23.1->ipykernel) (0.2.0)\n",
      "Requirement already satisfied: decorator in e:\\documents\\d_s\\full_stack\\11_sept\\deepcnnclassifier\\env\\lib\\site-packages (from ipython>=7.23.1->ipykernel) (5.1.1)\n",
      "Requirement already satisfied: pickleshare in e:\\documents\\d_s\\full_stack\\11_sept\\deepcnnclassifier\\env\\lib\\site-packages (from ipython>=7.23.1->ipykernel) (0.7.5)\n",
      "Requirement already satisfied: jedi>=0.16 in e:\\documents\\d_s\\full_stack\\11_sept\\deepcnnclassifier\\env\\lib\\site-packages (from ipython>=7.23.1->ipykernel) (0.18.1)\n",
      "Requirement already satisfied: stack-data in e:\\documents\\d_s\\full_stack\\11_sept\\deepcnnclassifier\\env\\lib\\site-packages (from ipython>=7.23.1->ipykernel) (0.5.0)\n",
      "Requirement already satisfied: pygments>=2.4.0 in e:\\documents\\d_s\\full_stack\\11_sept\\deepcnnclassifier\\env\\lib\\site-packages (from ipython>=7.23.1->ipykernel) (2.13.0)\n",
      "Requirement already satisfied: prompt-toolkit<3.1.0,>3.0.1 in e:\\documents\\d_s\\full_stack\\11_sept\\deepcnnclassifier\\env\\lib\\site-packages (from ipython>=7.23.1->ipykernel) (3.0.31)\n",
      "Requirement already satisfied: jupyter-core>=4.9.2 in e:\\documents\\d_s\\full_stack\\11_sept\\deepcnnclassifier\\env\\lib\\site-packages (from jupyter-client>=6.1.12->ipykernel) (4.11.1)\n",
      "Requirement already satisfied: entrypoints in e:\\documents\\d_s\\full_stack\\11_sept\\deepcnnclassifier\\env\\lib\\site-packages (from jupyter-client>=6.1.12->ipykernel) (0.4)\n",
      "Requirement already satisfied: python-dateutil>=2.8.2 in e:\\documents\\d_s\\full_stack\\11_sept\\deepcnnclassifier\\env\\lib\\site-packages (from jupyter-client>=6.1.12->ipykernel) (2.8.2)\n",
      "Requirement already satisfied: pyparsing!=3.0.5,>=2.0.2 in e:\\documents\\d_s\\full_stack\\11_sept\\deepcnnclassifier\\env\\lib\\site-packages (from packaging->ipykernel) (3.0.9)\n",
      "Requirement already satisfied: parso<0.9.0,>=0.8.0 in e:\\documents\\d_s\\full_stack\\11_sept\\deepcnnclassifier\\env\\lib\\site-packages (from jedi>=0.16->ipython>=7.23.1->ipykernel) (0.8.3)\n",
      "Requirement already satisfied: pywin32>=1.0 in e:\\documents\\d_s\\full_stack\\11_sept\\deepcnnclassifier\\env\\lib\\site-packages (from jupyter-core>=4.9.2->jupyter-client>=6.1.12->ipykernel) (304)\n",
      "Requirement already satisfied: wcwidth in e:\\documents\\d_s\\full_stack\\11_sept\\deepcnnclassifier\\env\\lib\\site-packages (from prompt-toolkit<3.1.0,>3.0.1->ipython>=7.23.1->ipykernel) (0.2.5)\n",
      "Requirement already satisfied: six>=1.5 in e:\\documents\\d_s\\full_stack\\11_sept\\deepcnnclassifier\\env\\lib\\site-packages (from python-dateutil>=2.8.2->jupyter-client>=6.1.12->ipykernel) (1.16.0)\n",
      "Requirement already satisfied: asttokens in e:\\documents\\d_s\\full_stack\\11_sept\\deepcnnclassifier\\env\\lib\\site-packages (from stack-data->ipython>=7.23.1->ipykernel) (2.0.8)\n",
      "Requirement already satisfied: executing in e:\\documents\\d_s\\full_stack\\11_sept\\deepcnnclassifier\\env\\lib\\site-packages (from stack-data->ipython>=7.23.1->ipykernel) (1.0.0)\n",
      "Requirement already satisfied: pure-eval in e:\\documents\\d_s\\full_stack\\11_sept\\deepcnnclassifier\\env\\lib\\site-packages (from stack-data->ipython>=7.23.1->ipykernel) (0.2.2)\n"
     ]
    }
   ],
   "source": []
  },
  {
   "cell_type": "code",
   "execution_count": null,
   "metadata": {},
   "outputs": [],
   "source": [
    "Path(\"x\\y/z/abc.txt\")"
   ]
  },
  {
   "cell_type": "code",
   "execution_count": null,
   "metadata": {},
   "outputs": [],
   "source": [
    "import os \n"
   ]
  },
  {
   "cell_type": "code",
   "execution_count": null,
   "metadata": {},
   "outputs": [],
   "source": [
    "root=os.getcwd()\n",
    "root"
   ]
  },
  {
   "cell_type": "code",
   "execution_count": null,
   "metadata": {},
   "outputs": [],
   "source": [
    "files=os.listdir(root)\n",
    "for f in files:\n",
    "    filepath=Path(f)\n",
    "    print(os.path.split(filepath))\n"
   ]
  },
  {
   "cell_type": "code",
   "execution_count": null,
   "metadata": {},
   "outputs": [],
   "source": []
  }
 ],
 "metadata": {
  "kernelspec": {
   "display_name": "Python 3.8.13 (conda)",
   "language": "python",
   "name": "python3"
  },
  "language_info": {
   "codemirror_mode": {
    "name": "ipython",
    "version": 3
   },
   "file_extension": ".py",
   "mimetype": "text/x-python",
   "name": "python",
   "nbconvert_exporter": "python",
   "pygments_lexer": "ipython3",
   "version": "3.8.13"
  },
  "orig_nbformat": 4,
  "vscode": {
   "interpreter": {
    "hash": "26a2ed6515089103f070f7fa67828996d560d77733a4cda6ae3a55125b4f782d"
   }
  }
 },
 "nbformat": 4,
 "nbformat_minor": 2
}
